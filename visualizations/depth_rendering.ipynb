{
 "cells": [
  {
   "cell_type": "code",
   "execution_count": 57,
   "id": "493f8909957613fd",
   "metadata": {
    "collapsed": false,
    "ExecuteTime": {
     "end_time": "2024-06-08T11:56:32.261696878Z",
     "start_time": "2024-06-08T11:56:32.219537194Z"
    }
   },
   "outputs": [
    {
     "name": "stdout",
     "output_type": "stream",
     "text": [
      "The autoreload extension is already loaded. To reload it, use:\n",
      "  %reload_ext autoreload\n"
     ]
    }
   ],
   "source": [
    "%load_ext autoreload\n",
    "%autoreload 2\n",
    "from pathlib import Path\n",
    "\n",
    "import matplotlib.pyplot as plt\n",
    "import torch\n",
    "from torch.utils.data import DataLoader\n",
    "\n",
    "from nerf2d import NeRF2D_LightningModule\n",
    "from nerf2d_dataset import read_image_folder, NeRFDataset2D"
   ]
  },
  {
   "cell_type": "code",
   "outputs": [],
   "source": [
    "ckpt_path = '../checkpoints/last-v1.ckpt'\n",
    "nerf = NeRF2D_LightningModule.load_from_checkpoint(ckpt_path).to('cpu')"
   ],
   "metadata": {
    "collapsed": false,
    "ExecuteTime": {
     "end_time": "2024-06-08T11:56:33.428911312Z",
     "start_time": "2024-06-08T11:56:33.384337351Z"
    }
   },
   "id": "60a3bd005feefc61",
   "execution_count": 58
  },
  {
   "cell_type": "code",
   "execution_count": 3,
   "id": "ba884f15f972afea",
   "metadata": {
    "collapsed": false,
    "ExecuteTime": {
     "end_time": "2024-06-08T11:47:36.572730993Z",
     "start_time": "2024-06-08T11:47:36.534031464Z"
    }
   },
   "outputs": [],
   "source": [
    "# read test set\n",
    "dataset_folder = Path('../data/cube')\n",
    "ims, poses, focal, depths = read_image_folder(dataset_folder / 'test')\n",
    "dataset = NeRFDataset2D(ims, poses, focal, depths)\n",
    "dataloader = DataLoader(dataset, batch_size=1, shuffle=False)"
   ]
  },
  {
   "cell_type": "code",
   "outputs": [],
   "source": [
    "def show_colors(colors, names=None):\n",
    "    if names is None:\n",
    "        names = [''] * len(colors)\n",
    "\n",
    "    fig, ax = plt.subplots(1, len(colors), figsize=(len(colors), 1))\n",
    "    for i, color in enumerate(colors):\n",
    "        ax[i].imshow(color.expand(1, 1, 3).detach().numpy())\n",
    "        ax[i].set_axis_off()\n",
    "        ax[i].set_title(names[i])\n",
    "\n",
    "    plt.show()\n",
    "\n",
    "def get_nth_batch(n, loader):\n",
    "    for i, batch in enumerate(loader):\n",
    "        if i == n:\n",
    "            return batch"
   ],
   "metadata": {
    "collapsed": false,
    "ExecuteTime": {
     "end_time": "2024-06-08T11:47:37.799231190Z",
     "start_time": "2024-06-08T11:47:37.773525905Z"
    }
   },
   "id": "588301c9ad08c948",
   "execution_count": 4
  },
  {
   "cell_type": "code",
   "execution_count": 9,
   "id": "ee2ba1254772e42f",
   "metadata": {
    "collapsed": false,
    "ExecuteTime": {
     "end_time": "2024-06-08T11:48:10.422005353Z",
     "start_time": "2024-06-08T11:48:10.379494506Z"
    }
   },
   "outputs": [],
   "source": [
    "\n",
    "ray_idx = 20\n",
    "\n",
    "# get dataset entry\n",
    "o, d, color_gt, depth_gt = get_nth_batch(ray_idx, dataloader)\n",
    "\n",
    "# nerf forward pass\n",
    "with torch.no_grad():\n",
    "    outs = nerf(o, d)\n"
   ]
  },
  {
   "cell_type": "code",
   "outputs": [
    {
     "data": {
      "text/plain": "<matplotlib.image.AxesImage at 0x7f039c40bc50>"
     },
     "execution_count": 72,
     "metadata": {},
     "output_type": "execute_result"
    },
    {
     "data": {
      "text/plain": "<Figure size 640x480 with 1 Axes>",
      "image/png": "[encoded data removed]"
     },
     "metadata": {},
     "output_type": "display_data"
    }
   ],
   "source": [
    "from einops import rearrange\n",
    "\n",
    "densities = nerf.render_density_field()\n",
    "\n",
    "\n",
    "\n",
    "plt.imshow(densities)\n"
   ],
   "metadata": {
    "collapsed": false,
    "ExecuteTime": {
     "end_time": "2024-06-08T12:26:11.436720904Z",
     "start_time": "2024-06-08T12:26:10.110541037Z"
    }
   },
   "id": "83c8ef98afc6fedf",
   "execution_count": 72
  }
 ],
 "metadata": {
  "kernelspec": {
   "display_name": "Python 3",
   "language": "python",
   "name": "python3"
  },
  "language_info": {
   "codemirror_mode": {
    "name": "ipython",
    "version": 3
   },
   "file_extension": ".py",
   "mimetype": "text/x-python",
   "name": "python",
   "nbconvert_exporter": "python",
   "pygments_lexer": "ipython3",
   "version": "3.12.3"
  }
 },
 "nbformat": 4,
 "nbformat_minor": 5
}
