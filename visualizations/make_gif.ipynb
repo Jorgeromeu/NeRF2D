{
 "cells": [
  {
   "cell_type": "code",
   "execution_count": 1,
   "id": "initial_id",
   "metadata": {
    "collapsed": true,
    "ExecuteTime": {
     "end_time": "2024-06-12T13:31:37.995511520Z",
     "start_time": "2024-06-12T13:31:35.558887885Z"
    }
   },
   "outputs": [],
   "source": [
    "%load_ext autoreload\n",
    "%autoreload 2\n",
    "\n",
    "import imageio\n",
    "import torchvision.transforms.functional as TF\n",
    "import wandb\n",
    "from torchvision.io import read_image\n",
    "\n",
    "from wandb_utils import *\n",
    "\n",
    "api = wandb.Api()\n",
    "run = example_train_run(api)"
   ]
  },
  {
   "cell_type": "code",
   "outputs": [],
   "source": [
    "manager = RunDataManager(Path('../run_data'))"
   ],
   "metadata": {
    "collapsed": false,
    "ExecuteTime": {
     "end_time": "2024-06-12T12:56:58.782321344Z",
     "start_time": "2024-06-12T12:56:56.666266884Z"
    }
   },
   "id": "ee7085845bb25c88",
   "execution_count": 55
  },
  {
   "cell_type": "code",
   "outputs": [],
   "source": [
    "files = get_files_by_label(run, 'density')\n",
    "file_names = manager.download_fun_files(run, files, replace=False)"
   ],
   "metadata": {
    "collapsed": false,
    "ExecuteTime": {
     "end_time": "2024-06-12T13:02:10.439244040Z",
     "start_time": "2024-06-12T13:02:08.050890329Z"
    }
   },
   "id": "ff422e7a38b9a69d",
   "execution_count": 74
  },
  {
   "cell_type": "code",
   "outputs": [],
   "source": [
    "\n",
    "file_names = sorted(file_names, key=lambda x: parse_file_name(x)['step'])\n",
    "\n",
    "def make_gif(file_names: list[Path], out_path: Path, duration=0.1):\n",
    "    pil_ims = []\n",
    "    for path in file_names:\n",
    "        t = read_image(path)\n",
    "        pil_im = TF.to_pil_image(t)\n",
    "        pil_ims.append(pil_im)\n",
    "\n",
    "    imageio.mimsave(out_path, pil_ims, duration=0.1)\n",
    "\n",
    "make_gif(file_names, Path('/home/jorge/density.gif'))"
   ],
   "metadata": {
    "collapsed": false,
    "ExecuteTime": {
     "end_time": "2024-06-12T13:02:58.083574841Z",
     "start_time": "2024-06-12T13:02:57.830814533Z"
    }
   },
   "id": "c66982326a7a3d79",
   "execution_count": 79
  }
 ],
 "metadata": {
  "kernelspec": {
   "display_name": "Python 3",
   "language": "python",
   "name": "python3"
  },
  "language_info": {
   "codemirror_mode": {
    "name": "ipython",
    "version": 2
   },
   "file_extension": ".py",
   "mimetype": "text/x-python",
   "name": "python",
   "nbconvert_exporter": "python",
   "pygments_lexer": "ipython2",
   "version": "2.7.6"
  }
 },
 "nbformat": 4,
 "nbformat_minor": 5
}
