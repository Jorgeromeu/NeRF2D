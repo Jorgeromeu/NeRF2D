{
 "cells": [
  {
   "cell_type": "code",
   "execution_count": 13,
   "id": "initial_id",
   "metadata": {
    "collapsed": true,
    "ExecuteTime": {
     "end_time": "2024-06-12T14:02:37.908619130Z",
     "start_time": "2024-06-12T14:02:35.676138859Z"
    }
   },
   "outputs": [
    {
     "name": "stdout",
     "output_type": "stream",
     "text": [
      "The autoreload extension is already loaded. To reload it, use:\n",
      "  %reload_ext autoreload\n"
     ]
    }
   ],
   "source": [
    "%load_ext autoreload\n",
    "%autoreload 2\n",
    "\n",
    "import imageio\n",
    "import torchvision.transforms.functional as TF\n",
    "import wandb\n",
    "from torchvision.io import read_image\n",
    "\n",
    "from wandb_utils import *\n",
    "\n",
    "api = wandb.Api()\n",
    "run = example_train_run(api)\n",
    "run = RunWrapper(run)"
   ]
  },
  {
   "cell_type": "code",
   "outputs": [],
   "source": [
    "manager = RunDataManager(Path('../run_data'))"
   ],
   "metadata": {
    "collapsed": false,
    "ExecuteTime": {
     "end_time": "2024-06-12T14:01:19.464536438Z",
     "start_time": "2024-06-12T14:01:19.446586041Z"
    }
   },
   "id": "ee7085845bb25c88",
   "execution_count": 7
  },
  {
   "cell_type": "code",
   "outputs": [
    {
     "name": "stderr",
     "output_type": "stream",
     "text": [
      "100%|██████████| 101/101 [00:00<00:00, 1910.39it/s]\n"
     ]
    }
   ],
   "source": [
    "from torchvision.io import ImageReadMode\n",
    "\n",
    "def make_gif_from_run(manager, run: RunWrapper, label, out_path: Path, duration=0.1):\n",
    "    files = manager.download_run_files_by_label(run, label)\n",
    "    file_names = sorted(files, key=lambda x: parse_file_name(x)['step'])\n",
    "\n",
    "    pil_ims = []\n",
    "    for path in file_names:\n",
    "        t = read_image(path, ImageReadMode.GRAY)\n",
    "        pil_im = TF.to_pil_image(t)\n",
    "        pil_ims.append(pil_im)\n",
    "\n",
    "    imageio.mimsave(out_path, pil_ims, duration=0.1)\n",
    "\n",
    "make_gif_from_run(manager, run, 'density', Path('/home/jorge/density.gif'))"
   ],
   "metadata": {
    "collapsed": false,
    "ExecuteTime": {
     "end_time": "2024-06-12T15:13:41.826472862Z",
     "start_time": "2024-06-12T15:13:41.369586191Z"
    }
   },
   "id": "a0c1b06699df8c42",
   "execution_count": 20
  }
 ],
 "metadata": {
  "kernelspec": {
   "display_name": "Python 3",
   "language": "python",
   "name": "python3"
  },
  "language_info": {
   "codemirror_mode": {
    "name": "ipython",
    "version": 2
   },
   "file_extension": ".py",
   "mimetype": "text/x-python",
   "name": "python",
   "nbconvert_exporter": "python",
   "pygments_lexer": "ipython2",
   "version": "2.7.6"
  }
 },
 "nbformat": 4,
 "nbformat_minor": 5
}
