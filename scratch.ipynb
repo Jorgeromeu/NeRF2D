{
 "cells": [
  {
   "cell_type": "code",
   "execution_count": 66,
   "id": "initial_id",
   "metadata": {
    "collapsed": true,
    "ExecuteTime": {
     "end_time": "2024-05-09T11:24:57.985402626Z",
     "start_time": "2024-05-09T11:24:57.965991427Z"
    }
   },
   "outputs": [
    {
     "name": "stdout",
     "output_type": "stream",
     "text": [
      "The autoreload extension is already loaded. To reload it, use:\n",
      "  %reload_ext autoreload\n"
     ]
    }
   ],
   "source": [
    "%load_ext autoreload\n",
    "%autoreload 2\n",
    "\n",
    "import matplotlib.pyplot as plt\n",
    "import torch\n",
    "\n",
    "from nerf2d import NeRF2D_LightningModule\n",
    "from transform2d import Transform2D\n"
   ]
  },
  {
   "cell_type": "code",
   "outputs": [
    {
     "data": {
      "text/plain": "torch.Size([4, 40])"
     },
     "execution_count": 100,
     "metadata": {},
     "output_type": "execute_result"
    }
   ],
   "source": [
    "from positional_encoding import PositionalEncoding\n",
    "\n",
    "e = PositionalEncoding(d_emb=10)\n",
    "\n",
    "x = torch.Tensor([[0, 0], [1, 0], [0, 1], [1, 1]])\n",
    "\n",
    "e(x).shape"
   ],
   "metadata": {
    "collapsed": false,
    "ExecuteTime": {
     "end_time": "2024-05-09T11:55:49.991736839Z",
     "start_time": "2024-05-09T11:55:49.972893596Z"
    }
   },
   "id": "9cb40d9c7c81b1f6",
   "execution_count": 100
  },
  {
   "cell_type": "code",
   "outputs": [
    {
     "data": {
      "text/plain": "tensor([[0.5000, 0.5028, 0.5214, 0.0725]], grad_fn=<CatBackward0>)"
     },
     "execution_count": 116,
     "metadata": {},
     "output_type": "execute_result"
    }
   ],
   "source": [
    "from nerf_model import SimpleNeRF\n",
    "\n",
    "nerf = SimpleNeRF(d_input=2, n_layers=4, d_hidden=128)\n",
    "\n",
    "x = torch.Tensor([[0, 0]])\n",
    "\n",
    "nerf(x)"
   ],
   "metadata": {
    "collapsed": false,
    "ExecuteTime": {
     "end_time": "2024-05-09T12:04:04.309075093Z",
     "start_time": "2024-05-09T12:04:04.277358338Z"
    }
   },
   "id": "4881526c48623654",
   "execution_count": 116
  }
 ],
 "metadata": {
  "kernelspec": {
   "display_name": "Python 3",
   "language": "python",
   "name": "python3"
  },
  "language_info": {
   "codemirror_mode": {
    "name": "ipython",
    "version": 2
   },
   "file_extension": ".py",
   "mimetype": "text/x-python",
   "name": "python",
   "nbconvert_exporter": "python",
   "pygments_lexer": "ipython2",
   "version": "2.7.6"
  }
 },
 "nbformat": 4,
 "nbformat_minor": 5
}
