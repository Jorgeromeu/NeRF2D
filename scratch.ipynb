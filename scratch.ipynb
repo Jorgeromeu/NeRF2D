{
 "cells": [
  {
   "cell_type": "code",
   "execution_count": 2,
   "id": "initial_id",
   "metadata": {
    "collapsed": true,
    "ExecuteTime": {
     "end_time": "2024-05-08T18:56:36.667622483Z",
     "start_time": "2024-05-08T18:56:35.549049794Z"
    }
   },
   "outputs": [],
   "source": [
    "%load_ext autoreload\n",
    "%autoreload 2\n",
    "\n",
    "import matplotlib.pyplot as plt\n",
    "import torch\n",
    "\n",
    "from nerf2d import NeRF2D_LightningModule\n",
    "from transform2d import Transform2D\n"
   ]
  },
  {
   "cell_type": "code",
   "outputs": [
    {
     "data": {
      "text/plain": "(-0.5, 0.5, 9.5, -0.5)"
     },
     "execution_count": 32,
     "metadata": {},
     "output_type": "execute_result"
    },
    {
     "data": {
      "text/plain": "<Figure size 640x480 with 1 Axes>",
      "image/png": "[encoded data removed]"
     },
     "metadata": {},
     "output_type": "display_data"
    }
   ],
   "source": [
    "model = NeRF2D_LightningModule()\n",
    "\n",
    "# example of rendering a novel view\n",
    "t = Transform2D.from_translation_and_rotation(torch.tensor([0.0, 0.0]), 0)\n",
    "view = model.render_view(10, 10, t.as_matrix())\n",
    "\n",
    "plt.imshow(view)\n",
    "plt.axis('off')"
   ],
   "metadata": {
    "collapsed": false,
    "ExecuteTime": {
     "end_time": "2024-05-08T19:02:05.755050927Z",
     "start_time": "2024-05-08T19:02:05.712581133Z"
    }
   },
   "id": "174218f08a1e5e50",
   "execution_count": 32
  }
 ],
 "metadata": {
  "kernelspec": {
   "display_name": "Python 3",
   "language": "python",
   "name": "python3"
  },
  "language_info": {
   "codemirror_mode": {
    "name": "ipython",
    "version": 2
   },
   "file_extension": ".py",
   "mimetype": "text/x-python",
   "name": "python",
   "nbconvert_exporter": "python",
   "pygments_lexer": "ipython2",
   "version": "2.7.6"
  }
 },
 "nbformat": 4,
 "nbformat_minor": 5
}
