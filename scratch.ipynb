{
 "cells": [
  {
   "cell_type": "code",
   "execution_count": 1,
   "id": "initial_id",
   "metadata": {
    "collapsed": true,
    "ExecuteTime": {
     "end_time": "2024-06-14T13:17:51.970124736Z",
     "start_time": "2024-06-14T13:17:47.638936640Z"
    }
   },
   "outputs": [
    {
     "name": "stderr",
     "output_type": "stream",
     "text": [
      "wandb:   506 of 506 files downloaded.  \n"
     ]
    }
   ],
   "source": [
    "import wandb\n",
    "\n",
    "from visualizations.figures import vis_datamodule\n",
    "from wandb_utils import load_dm_from_artifact_no_train\n",
    "\n",
    "api = wandb.Api()\n",
    "\n",
    "artifact = api.artifact('romeu/NeRF2D/bunny:latest')\n",
    "dm = load_dm_from_artifact_no_train(artifact)"
   ]
  },
  {
   "cell_type": "code",
   "outputs": [
    {
     "ename": "ArtifactFinalizedError",
     "evalue": "'Artifact' used on logged artifact. Can't modify finalized artifact.",
     "output_type": "error",
     "traceback": [
      "\u001B[0;31m---------------------------------------------------------------------------\u001B[0m",
      "\u001B[0;31mArtifactFinalizedError\u001B[0m                    Traceback (most recent call last)",
      "Cell \u001B[0;32mIn[2], line 1\u001B[0m\n\u001B[0;32m----> 1\u001B[0m \u001B[43martifact\u001B[49m\u001B[38;5;241;43m.\u001B[39;49m\u001B[43madd_file\u001B[49m\u001B[43m(\u001B[49m\u001B[38;5;124;43m'\u001B[39;49m\u001B[38;5;124;43m/home/jorge/nerf2d/bunny.png\u001B[39;49m\u001B[38;5;124;43m'\u001B[39;49m\u001B[43m)\u001B[49m\n",
      "File \u001B[0;32m~/repos/NeRF2D/.venv/lib/python3.12/site-packages/wandb/sdk/artifacts/artifact.py:1183\u001B[0m, in \u001B[0;36mArtifact.add_file\u001B[0;34m(self, local_path, name, is_tmp, skip_cache, policy)\u001B[0m\n\u001B[1;32m   1154\u001B[0m \u001B[38;5;28;01mdef\u001B[39;00m \u001B[38;5;21madd_file\u001B[39m(\n\u001B[1;32m   1155\u001B[0m     \u001B[38;5;28mself\u001B[39m,\n\u001B[1;32m   1156\u001B[0m     local_path: \u001B[38;5;28mstr\u001B[39m,\n\u001B[0;32m   (...)\u001B[0m\n\u001B[1;32m   1160\u001B[0m     policy: Optional[Literal[\u001B[38;5;124m\"\u001B[39m\u001B[38;5;124mmutable\u001B[39m\u001B[38;5;124m\"\u001B[39m, \u001B[38;5;124m\"\u001B[39m\u001B[38;5;124mimmutable\u001B[39m\u001B[38;5;124m\"\u001B[39m]] \u001B[38;5;241m=\u001B[39m \u001B[38;5;124m\"\u001B[39m\u001B[38;5;124mmutable\u001B[39m\u001B[38;5;124m\"\u001B[39m,\n\u001B[1;32m   1161\u001B[0m ) \u001B[38;5;241m-\u001B[39m\u001B[38;5;241m>\u001B[39m ArtifactManifestEntry:\n\u001B[1;32m   1162\u001B[0m \u001B[38;5;250m    \u001B[39m\u001B[38;5;124;03m\"\"\"Add a local file to the artifact.\u001B[39;00m\n\u001B[1;32m   1163\u001B[0m \n\u001B[1;32m   1164\u001B[0m \u001B[38;5;124;03m    Arguments:\u001B[39;00m\n\u001B[0;32m   (...)\u001B[0m\n\u001B[1;32m   1181\u001B[0m \u001B[38;5;124;03m        ValueError: Policy must be \"mutable\" or \"immutable\"\u001B[39;00m\n\u001B[1;32m   1182\u001B[0m \u001B[38;5;124;03m    \"\"\"\u001B[39;00m\n\u001B[0;32m-> 1183\u001B[0m     \u001B[38;5;28;43mself\u001B[39;49m\u001B[38;5;241;43m.\u001B[39;49m\u001B[43m_ensure_can_add\u001B[49m\u001B[43m(\u001B[49m\u001B[43m)\u001B[49m\n\u001B[1;32m   1184\u001B[0m     \u001B[38;5;28;01mif\u001B[39;00m \u001B[38;5;129;01mnot\u001B[39;00m os\u001B[38;5;241m.\u001B[39mpath\u001B[38;5;241m.\u001B[39misfile(local_path):\n\u001B[1;32m   1185\u001B[0m         \u001B[38;5;28;01mraise\u001B[39;00m \u001B[38;5;167;01mValueError\u001B[39;00m(\u001B[38;5;124m\"\u001B[39m\u001B[38;5;124mPath is not a file: \u001B[39m\u001B[38;5;132;01m%s\u001B[39;00m\u001B[38;5;124m\"\u001B[39m \u001B[38;5;241m%\u001B[39m local_path)\n",
      "File \u001B[0;32m~/repos/NeRF2D/.venv/lib/python3.12/site-packages/wandb/sdk/artifacts/artifact.py:735\u001B[0m, in \u001B[0;36mArtifact._ensure_can_add\u001B[0;34m(self)\u001B[0m\n\u001B[1;32m    733\u001B[0m \u001B[38;5;28;01mdef\u001B[39;00m \u001B[38;5;21m_ensure_can_add\u001B[39m(\u001B[38;5;28mself\u001B[39m) \u001B[38;5;241m-\u001B[39m\u001B[38;5;241m>\u001B[39m \u001B[38;5;28;01mNone\u001B[39;00m:\n\u001B[1;32m    734\u001B[0m     \u001B[38;5;28;01mif\u001B[39;00m \u001B[38;5;28mself\u001B[39m\u001B[38;5;241m.\u001B[39m_final:\n\u001B[0;32m--> 735\u001B[0m         \u001B[38;5;28;01mraise\u001B[39;00m ArtifactFinalizedError(artifact\u001B[38;5;241m=\u001B[39m\u001B[38;5;28mself\u001B[39m)\n",
      "\u001B[0;31mArtifactFinalizedError\u001B[0m: 'Artifact' used on logged artifact. Can't modify finalized artifact."
     ]
    }
   ],
   "source": [
    "artifact.add_file('/home/jorge/nerf2d/bunny.png')"
   ],
   "metadata": {
    "collapsed": false,
    "ExecuteTime": {
     "end_time": "2024-06-14T13:18:29.450387318Z",
     "start_time": "2024-06-14T13:18:29.297811039Z"
    }
   },
   "id": "aecc273eebc02aa9",
   "execution_count": 2
  }
 ],
 "metadata": {
  "kernelspec": {
   "display_name": "Python 3",
   "language": "python",
   "name": "python3"
  },
  "language_info": {
   "codemirror_mode": {
    "name": "ipython",
    "version": 2
   },
   "file_extension": ".py",
   "mimetype": "text/x-python",
   "name": "python",
   "nbconvert_exporter": "python",
   "pygments_lexer": "ipython2",
   "version": "2.7.6"
  }
 },
 "nbformat": 4,
 "nbformat_minor": 5
}
