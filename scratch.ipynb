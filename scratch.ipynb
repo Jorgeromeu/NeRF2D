{
 "cells": [
  {
   "cell_type": "code",
   "execution_count": 66,
   "id": "initial_id",
   "metadata": {
    "collapsed": true,
    "ExecuteTime": {
     "end_time": "2024-05-09T11:24:57.985402626Z",
     "start_time": "2024-05-09T11:24:57.965991427Z"
    }
   },
   "outputs": [
    {
     "name": "stdout",
     "output_type": "stream",
     "text": [
      "The autoreload extension is already loaded. To reload it, use:\n",
      "  %reload_ext autoreload\n"
     ]
    }
   ],
   "source": [
    "%load_ext autoreload\n",
    "%autoreload 2\n",
    "\n",
    "import matplotlib.pyplot as plt\n",
    "import torch\n",
    "\n",
    "from nerf2d import NeRF2D_LightningModule\n",
    "from transform2d import Transform2D\n"
   ]
  },
  {
   "cell_type": "code",
   "outputs": [],
   "source": [
    "model = NeRF2D_LightningModule()"
   ],
   "metadata": {
    "collapsed": false,
    "ExecuteTime": {
     "end_time": "2024-05-09T11:26:54.689033204Z",
     "start_time": "2024-05-09T11:26:54.672738136Z"
    }
   },
   "id": "8a64438e2eefb820",
   "execution_count": 83
  },
  {
   "cell_type": "code",
   "outputs": [
    {
     "name": "stderr",
     "output_type": "stream",
     "text": [
      "Clipping input data to the valid range for imshow with RGB data ([0..1] for floats or [0..255] for integers).\n"
     ]
    },
    {
     "data": {
      "text/plain": "(-0.5, 0.5, 9.5, -0.5)"
     },
     "execution_count": 90,
     "metadata": {},
     "output_type": "execute_result"
    },
    {
     "data": {
      "text/plain": "<Figure size 640x480 with 1 Axes>",
      "image/png": "[encoded data removed]"
     },
     "metadata": {},
     "output_type": "display_data"
    }
   ],
   "source": [
    "\n",
    "# example of rendering a novel view\n",
    "t = Transform2D.from_translation_and_rotation(torch.tensor([0.0, 0.0]), 0)\n",
    "view = model.render_view(10, 10, t.as_matrix())\n",
    "\n",
    "plt.imshow(view)\n",
    "plt.axis('off')"
   ],
   "metadata": {
    "collapsed": false,
    "ExecuteTime": {
     "end_time": "2024-05-09T11:31:28.661083541Z",
     "start_time": "2024-05-09T11:31:27.653049523Z"
    }
   },
   "id": "174218f08a1e5e50",
   "execution_count": 90
  },
  {
   "cell_type": "code",
   "outputs": [
    {
     "data": {
      "text/plain": "tensor([[1., 1., 1.],\n        [1., 1., 1.]])"
     },
     "execution_count": 61,
     "metadata": {},
     "output_type": "execute_result"
    }
   ],
   "source": [
    "from dummy_volume import DummyVolume\n",
    "\n",
    "v = DummyVolume()\n",
    "\n",
    "x = torch.Tensor([[0, 0], [0, 0]])\n",
    "v(x)\n"
   ],
   "metadata": {
    "collapsed": false,
    "ExecuteTime": {
     "end_time": "2024-05-08T19:34:43.839225391Z",
     "start_time": "2024-05-08T19:34:43.824579550Z"
    }
   },
   "id": "406bb436974951d1",
   "execution_count": 61
  }
 ],
 "metadata": {
  "kernelspec": {
   "display_name": "Python 3",
   "language": "python",
   "name": "python3"
  },
  "language_info": {
   "codemirror_mode": {
    "name": "ipython",
    "version": 2
   },
   "file_extension": ".py",
   "mimetype": "text/x-python",
   "name": "python",
   "nbconvert_exporter": "python",
   "pygments_lexer": "ipython2",
   "version": "2.7.6"
  }
 },
 "nbformat": 4,
 "nbformat_minor": 5
}
